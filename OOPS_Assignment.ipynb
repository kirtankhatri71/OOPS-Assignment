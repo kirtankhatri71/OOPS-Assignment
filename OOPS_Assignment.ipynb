{
  "nbformat": 4,
  "nbformat_minor": 0,
  "metadata": {
    "colab": {
      "provenance": []
    },
    "kernelspec": {
      "name": "python3",
      "display_name": "Python 3"
    },
    "language_info": {
      "name": "python"
    }
  },
  "cells": [
    {
      "cell_type": "markdown",
      "source": [
        "## OOPS\n"
      ],
      "metadata": {
        "id": "ViGi-B8fyuN6"
      }
    },
    {
      "cell_type": "markdown",
      "source": [
        "1.  What is Object-Oriented Programming (OOP)?\n",
        "  - OOP (Object-Oriented Programming) is a programming paradigm based on real-world objects. It organizes code into classes (blueprints) and objects (instances).\n",
        "\n",
        "    The four main pillars of OOP are:\n",
        "\n",
        "    Encapsulation, Abstraction, Inheritance, and Polymorphism\n"
      ],
      "metadata": {
        "id": "5NI48BDOy1qq"
      }
    },
    {
      "cell_type": "markdown",
      "source": [
        "2.  What is a class in OOP?\n",
        "   - Class in oops is like a template or blueprint used to create objects.\n",
        "   It defines what data(attributes) and actions(functions/method) objects will have.\n"
      ],
      "metadata": {
        "id": "yJ7_jhOk1IMZ"
      }
    },
    {
      "cell_type": "markdown",
      "source": [
        "3. What is object in OOP?\n",
        "  - Objects in oop is a real world thing created from a class.\n"
      ],
      "metadata": {
        "id": "5Wj7UzG41JvJ"
      }
    },
    {
      "cell_type": "markdown",
      "source": [
        "4.  What is the difference between abstraction and encapsulation?\n",
        "  - Abstarction hides the unnecessary data / complex details.\n",
        "    Inshort, hides the data from the user shows only what needed or necessary.\n",
        "  - Encapsulation hides data and method inside a class by using the method.\n",
        "  For e.g.,\n",
        "  double underscore __ to private the data and single underscore to protect the data."
      ],
      "metadata": {
        "id": "dZpT64gH1lwk"
      }
    },
    {
      "cell_type": "markdown",
      "source": [
        "5.  What are dunder methods in Python?\n",
        "   - Dunder method are special method also called magic method they are\n",
        "   special built-in methods in python that starts and end with dubleunderscore (__)."
      ],
      "metadata": {
        "id": "drT2r4KP27E3"
      }
    },
    {
      "cell_type": "markdown",
      "source": [
        "6. Explain the concept of inheritance in OOP?\n",
        "  - Inheritance in oop means child class can use (or inherit) the property or method of parent class."
      ],
      "metadata": {
        "id": "z6fFevfz3efF"
      }
    },
    {
      "cell_type": "markdown",
      "source": [
        "7.  What is polymorphism in OOP?\n",
        "   - Polymorphism in oop means \"same function, different actions\"."
      ],
      "metadata": {
        "id": "TAaKDBYT37hH"
      }
    },
    {
      "cell_type": "markdown",
      "source": [
        "8. How is encapsulation achieved in Python?\n",
        "  - In Python, encapsulation is achieved by hiding data (attributes) inside a class and controlling access to it using methods."
      ],
      "metadata": {
        "id": "4BdcGAJl5DZO"
      }
    },
    {
      "cell_type": "markdown",
      "source": [
        "9.  What is a constructor in Python?\n",
        "  - A constructor in python is a special method used to initialize an object when its created. the constructor is named (__init__) and self refers to the current object and  is used to assign the value to its attribute."
      ],
      "metadata": {
        "id": "RBrWmYKJ7d6g"
      }
    },
    {
      "cell_type": "markdown",
      "source": [
        "10.  What are class and static methods in Python?\n",
        "   - Class method is directky bound/binds with class, are used to access or modify the class. And it access in the class by using the @classmethod and we use (cls).\n",
        "   - static method in Python is a method that belongs to a class, but doesn’t need access to the object (self) or class (cls). Use the @staticmethod decorator."
      ],
      "metadata": {
        "id": "P2d7syCK8amk"
      }
    },
    {
      "cell_type": "markdown",
      "source": [
        "11.  What is method overloading in Python?\n",
        "    - Method overloading means having multiple methods with the same name but different parameters in a class, so the method behaves differently based on the arguments."
      ],
      "metadata": {
        "id": "1TNAWAEr9osg"
      }
    },
    {
      "cell_type": "markdown",
      "source": [
        "12.  What is method overriding in OOP?\n",
        "   - Mehod overriding in oop is when a child class provides is own version of a method that is already use or defined  in the parent class."
      ],
      "metadata": {
        "id": "PsM6zFFV96pZ"
      }
    },
    {
      "cell_type": "markdown",
      "source": [
        "13.  What is a property decorator in Python?\n",
        "   - A property decorator in Python is a way to access a method like an attribute. It lets you get, set, or delete a private attribute safely while keeping the syntax simple."
      ],
      "metadata": {
        "id": "iawWUY3C-cHm"
      }
    },
    {
      "cell_type": "markdown",
      "source": [
        "14.  Why is polymorphism important in OOP?\n",
        "   - Polymorphism is important in OOP because it allows one interface (method or operator) to work in different ways for different objects, making code flexible, reusable, and easier to maintain."
      ],
      "metadata": {
        "id": "7UeeV8zJLThh"
      }
    },
    {
      "cell_type": "markdown",
      "source": [
        "15.  What is an abstract class in Python?\n",
        "   - An abstract class in Python is a class you cannot create an object of. It is meant to be a base class, and it can have methods that child classes must implement."
      ],
      "metadata": {
        "id": "7fBXQOWFLp0r"
      }
    },
    {
      "cell_type": "markdown",
      "source": [
        "16. What are the advantages of OOP?\n",
        "- Advantages of OOP :\n",
        "\n",
        "   Reusability – reuse code via classes and inheritance.\n",
        "\n",
        "   Modularity – organizes code into manageable pieces.\n",
        "\n",
        "  Encapsulation – protects data inside objects.\n",
        "\n",
        "  Abstraction – hides complexity, shows only essentials.\n",
        "\n",
        "  Polymorphism – same method works differently for different objects.\n",
        "\n",
        "  Easy Maintenance – simpler to update large programs.\n",
        "\n",
        "  Real-world Modeling – represents real-world entities in code."
      ],
      "metadata": {
        "id": "r7cq3atpO-Q2"
      }
    },
    {
      "cell_type": "markdown",
      "source": [
        "17. What is the difference between a class variable and an instance variable?\n",
        "  - Class variable: shared by all objects of a class.\n",
        "\n",
        "  - Instance variable: unique to each object."
      ],
      "metadata": {
        "id": "DHeGqAxUPpkA"
      }
    },
    {
      "cell_type": "markdown",
      "source": [
        "18.  What is multiple inheritance in Python?\n",
        "  - Multiple inheritance in Python is when a child class inherits from more than one parent class."
      ],
      "metadata": {
        "id": "CAe5nnewP5Zd"
      }
    },
    {
      "cell_type": "markdown",
      "source": [
        "19. Explain the purpose of ‘’__str__’ and ‘__repr__’ ‘ methods in Python?\n",
        "   - __str__: Returns a user-friendly string of an object (used by print()).\n",
        "\n",
        "     __repr__: Returns a developer-friendly, unambiguous string that can recreate the object (used by repr())."
      ],
      "metadata": {
        "id": "q29ToskxQEOs"
      }
    },
    {
      "cell_type": "markdown",
      "source": [
        "20.  What is the significance of the ‘super()’ function in Python?\n",
        "   - super() is used to call a parent class method from a child class, allowing code reuse and avoiding redundancy."
      ],
      "metadata": {
        "id": "UFpq8i1uRDa2"
      }
    },
    {
      "cell_type": "markdown",
      "source": [
        "21. What is the significance of the __del__ method in Python?\n",
        "   - The __del__ method in Python is a destructor that is called automatically when an object is about to be destroyed."
      ],
      "metadata": {
        "id": "dnk9KY5rRUyH"
      }
    },
    {
      "cell_type": "markdown",
      "source": [
        "22.  What is the difference between @staticmethod and @classmethod in Python?\n",
        "  - @staticmethod → independent utility method\n",
        "\n",
        "     @classmethod → method that works with the class itself"
      ],
      "metadata": {
        "id": "FasQriL6Rc-7"
      }
    },
    {
      "cell_type": "markdown",
      "source": [
        "23. How does polymorphism work in Python with inheritance?\n",
        "   - Polymorphism with inheritance in Python means that a child class can override parent class methods, and the same method call behaves differently depending on the object."
      ],
      "metadata": {
        "id": "O5ktabNfRops"
      }
    },
    {
      "cell_type": "markdown",
      "source": [
        "24. What is method chaining in Python OOP?\n",
        "   - Method chaining is when you call multiple methods on the same object in a single line, one after another.\n",
        "\n",
        "     Achieved by returning self from each method.\n",
        "\n",
        "      Makes code cleaner and more readable.\n"
      ],
      "metadata": {
        "id": "5R6ZIJXQSjtG"
      }
    },
    {
      "cell_type": "markdown",
      "source": [
        "25. What is the purpose of the __call__ method in Python?\n",
        "  - Definition: A special method that allows an object to be used like a function, so calling the object executes the code inside __call__."
      ],
      "metadata": {
        "id": "YI1M12MHTUyk"
      }
    },
    {
      "cell_type": "markdown",
      "source": [
        "## Practical Question\n"
      ],
      "metadata": {
        "id": "wyjmKdZyTxRH"
      }
    },
    {
      "cell_type": "code",
      "source": [
        "#1. Create a parent class Animal with a method speak() that prints a generic message. Create a child class Dog\n",
        "#that overrides the speak() method to print \"Bark!\"\n",
        "class Animal:\n",
        "  def speak(self):\n",
        "    print(\"I am speaking\")\n",
        "class Dog(Animal):\n",
        "  def speak(self):\n",
        "    print(\"Bark\")\n",
        "a = Animal()\n",
        "a.speak()\n",
        "\n",
        "d = Dog()\n",
        "d.speak()\n"
      ],
      "metadata": {
        "colab": {
          "base_uri": "https://localhost:8080/"
        },
        "id": "x1joSTg8T1By",
        "outputId": "e8bf149a-e07c-48ef-adc4-b74aabea9170"
      },
      "execution_count": 3,
      "outputs": [
        {
          "output_type": "stream",
          "name": "stdout",
          "text": [
            "I am speaking\n",
            "Bark\n"
          ]
        }
      ]
    },
    {
      "cell_type": "code",
      "source": [
        "#  Write a program to create an abstract class Shape with a method area(). Derive classes Circle and Rectangle\n",
        "# from it and implement the area() method in both.\n",
        "\n",
        "from abc import ABC , abstractmethod\n",
        "\n",
        "class Shape(ABC):\n",
        "  @abstractmethod\n",
        "  def area (self):\n",
        "    pass\n",
        "class Circle(Shape):\n",
        "  def __init__(self,radius):\n",
        "    self.radius = radius\n",
        "  def area(self):\n",
        "    return 3.14 *self.radius*self.radius\n",
        "\n",
        "class Rectangle(Shape):\n",
        "  def __init__(self,len,width):\n",
        "    self.len = len\n",
        "    self.width = width\n",
        "  def area(self):\n",
        "    return self.len *self.width\n",
        "\n",
        "c=Circle(5)\n",
        "print(\"the area of circle :\",c.area())\n",
        "\n",
        "r = Rectangle(10,12)\n",
        "print(\"the area of rectangle :\",r.area())\n",
        "\n",
        "\n"
      ],
      "metadata": {
        "colab": {
          "base_uri": "https://localhost:8080/"
        },
        "id": "g_c2b33MmI23",
        "outputId": "cb77ff65-8d27-4e4f-c9e9-8ef1d1bbc728"
      },
      "execution_count": 11,
      "outputs": [
        {
          "output_type": "stream",
          "name": "stdout",
          "text": [
            "the area of circle : 78.5\n",
            "the area of rectangle : 120\n"
          ]
        }
      ]
    },
    {
      "cell_type": "code",
      "source": [
        "# 3. Implement a multi-level inheritance scenario where a class Vehicle has an attribute type. Derive a class Car\n",
        "# and further derive a class ElectricCar that adds a battery attribute\n",
        "\n",
        "class Vehicle:\n",
        "  def __init__(self,type):\n",
        "    self.type = type\n",
        "class Car(Vehicle):\n",
        "  def __init__(self,type,brand):\n",
        "    super().__init__(type)\n",
        "    self.brand = brand\n",
        "class ElectricCar(Car):\n",
        "  def __init__(self,type,brand,battery):\n",
        "    super().__init__(type,brand)\n",
        "    self.battery = battery\n",
        "\n",
        "  def info(self):\n",
        "    print (f\"{self.type} is good with brand {self.brand} and a good battery {self.battery}\")\n",
        "e = ElectricCar(\"car\",\"Tesla\",100)\n",
        "e.info()"
      ],
      "metadata": {
        "colab": {
          "base_uri": "https://localhost:8080/"
        },
        "id": "7SM5QbIxoEBQ",
        "outputId": "a507810d-22cd-4bbf-db91-ffd5ba8faf2a"
      },
      "execution_count": 16,
      "outputs": [
        {
          "output_type": "stream",
          "name": "stdout",
          "text": [
            "car is good with brand Tesla and a good battery 100\n"
          ]
        }
      ]
    },
    {
      "cell_type": "code",
      "source": [
        "#  4. Demonstrate polymorphism by creating a base class Bird with a method fly(). Create two derived classes\n",
        "# Sparrow and Penguin that override the fly() method.\n",
        "\n",
        "class Bird:\n",
        "  def fly(self):\n",
        "    print(\"birds can fly\")\n",
        "class Sparrow(Bird):\n",
        "  def fly(self):\n",
        "    print(\"sparrow can fly\")\n",
        "class Penguin(Bird):\n",
        "  def fly(self):\n",
        "    print(\"penguin cannot fly, they walk\")\n",
        "def make_bird_fly(bird):\n",
        "  bird.fly()\n",
        "b = Sparrow()\n",
        "b1 = Penguin()\n",
        "\n",
        "make_bird_fly(b)\n",
        "make_bird_fly(b1)"
      ],
      "metadata": {
        "colab": {
          "base_uri": "https://localhost:8080/"
        },
        "id": "uQWcKa1XqfoZ",
        "outputId": "400295f4-bb58-4959-dedb-6f780d5d2342"
      },
      "execution_count": 20,
      "outputs": [
        {
          "output_type": "stream",
          "name": "stdout",
          "text": [
            "sparrow can fly\n",
            "penguin cannot fly, they walk\n"
          ]
        }
      ]
    },
    {
      "cell_type": "code",
      "source": [
        "# 5. Write a program to demonstrate encapsulation by creating a class BankAccount with private attributes\n",
        "# balance and methods to deposit, withdraw, and check balance.\n",
        "\n",
        "\n",
        "class BankAccount:\n",
        "  def __init__(self,balance=0):\n",
        "    self.__balance = balance\n",
        "\n",
        "  def deposit(self,amount):\n",
        "    if amount >0:\n",
        "      self.__balance += amount\n",
        "      return f\" {amount} deposited successful.\\nNew balance = {self.__balance}\"\n",
        "    else:\n",
        "      print(\"the amount must be positive\")\n",
        "  def withdraw(self,amount):\n",
        "    if amount>0:\n",
        "      self.__balance -= amount\n",
        "      return f\"{amount} withdraw successful.\\nNew balance = {self.__balance}\"\n",
        "  def check_balance(self):\n",
        "    return f\"Total balance is {self.__balance}\"\n",
        "b = BankAccount()\n",
        "print(b.deposit(1000))\n",
        "print(b.withdraw(100))\n",
        "print(b.check_balance())\n"
      ],
      "metadata": {
        "colab": {
          "base_uri": "https://localhost:8080/"
        },
        "id": "bIi58Cd_sybu",
        "outputId": "885dfcc7-42bb-43fd-f702-dad2845c3c9d"
      },
      "execution_count": 18,
      "outputs": [
        {
          "output_type": "stream",
          "name": "stdout",
          "text": [
            " 1000 deposited successful.\n",
            "New balance = 1000\n",
            "100 withdraw successful.\n",
            "New balance = 900\n",
            "Total balance is 900\n"
          ]
        }
      ]
    },
    {
      "cell_type": "code",
      "source": [
        "#6. Demonstrate runtime polymorphism using a method play() in a base class Instrument. Derive classes Guitar\n",
        "# and Piano that implement their own version of play()\n",
        "class Instrument:\n",
        "  def play(self):\n",
        "    print(\"the instrument plays a sound\")\n",
        "class Guitar(Instrument):\n",
        "  def play(self):\n",
        "    print(\"playing guitar\")\n",
        "class Piano(Instrument):\n",
        "  def play(self):\n",
        "    print(\"playing piano\")\n",
        "def start_playing(instrument):\n",
        "    instrument.play()\n",
        "\n",
        "i = Instrument()\n",
        "g = Guitar()\n",
        "p = Piano()\n",
        "\n",
        "(start_playing(i))\n",
        "(start_playing(g))\n",
        "(start_playing(p))\n",
        "\n",
        "\n"
      ],
      "metadata": {
        "colab": {
          "base_uri": "https://localhost:8080/"
        },
        "id": "Pl59JbIwFo6I",
        "outputId": "a5ab56f8-a3f8-4d5f-9e07-5c976e7f391e"
      },
      "execution_count": 24,
      "outputs": [
        {
          "output_type": "stream",
          "name": "stdout",
          "text": [
            "the instrument plays a sound\n",
            "playing guitar\n",
            "playing piano\n"
          ]
        }
      ]
    },
    {
      "cell_type": "code",
      "source": [
        "# 7. Create a class MathOperations with a class method add_numbers() to add two numbers and a static\n",
        "# method subtract_numbers() to subtract two numbers\n",
        "\n",
        "class MathOperations:\n",
        "  @classmethod\n",
        "  def add_numbers(cls,x,y):\n",
        "    return x+y\n",
        "  @staticmethod\n",
        "  def subtract_numbers(x,y):\n",
        "    return x-y\n",
        "\n",
        "m = MathOperations()\n",
        "print(m.add_numbers(12,12))\n",
        "print(m.subtract_numbers(12,13))"
      ],
      "metadata": {
        "colab": {
          "base_uri": "https://localhost:8080/"
        },
        "id": "jtQZWmYxIaJB",
        "outputId": "aac4c4dc-7b96-44c9-91a1-c2759dc45648"
      },
      "execution_count": 30,
      "outputs": [
        {
          "output_type": "stream",
          "name": "stdout",
          "text": [
            "24\n",
            "-1\n"
          ]
        }
      ]
    },
    {
      "cell_type": "code",
      "source": [
        "#  8. Implement a class Person with a class method to count the total number of persons created.\n",
        "\n",
        "class Person:\n",
        "  count = 0\n",
        "  def __init__(self):\n",
        "    Person.count +=1\n",
        "  @classmethod\n",
        "  def info(cls):\n",
        "    print(f\"The numbers of persons are created successfully{cls.count}\")\n",
        "p = Person()\n",
        "p1 = Person()\n",
        "p2 = Person()\n",
        "p.count\n"
      ],
      "metadata": {
        "colab": {
          "base_uri": "https://localhost:8080/"
        },
        "id": "bsIYwpLQKjiC",
        "outputId": "3f185234-5a8d-4c9b-f719-7053b2c9dab3"
      },
      "execution_count": 35,
      "outputs": [
        {
          "output_type": "execute_result",
          "data": {
            "text/plain": [
              "3"
            ]
          },
          "metadata": {},
          "execution_count": 35
        }
      ]
    },
    {
      "cell_type": "code",
      "source": [
        "# 9. Write a class Fraction with attributes numerator and denominator. Override the str method to display the\n",
        "# fraction as \"numerator/denominator\".\n",
        "\n",
        "class Fraction:\n",
        "  def __init__(self,numerator,demoninator):\n",
        "    self.numerator =  numerator\n",
        "    self.demoninator = demoninator\n",
        "  def __str__(self):\n",
        "    return f\"{self.numerator}/{self.demoninator}\"\n",
        "f = Fraction(2,3)\n",
        "f1 = Fraction(12,34)\n",
        "print(f)\n",
        "print(f1)"
      ],
      "metadata": {
        "colab": {
          "base_uri": "https://localhost:8080/"
        },
        "id": "51LanvYvLltA",
        "outputId": "076f2ff7-2f7a-4157-cdb1-0cc4e2251609"
      },
      "execution_count": 38,
      "outputs": [
        {
          "output_type": "stream",
          "name": "stdout",
          "text": [
            "2/3\n",
            "12/34\n"
          ]
        }
      ]
    },
    {
      "cell_type": "code",
      "source": [
        "# 10. Demonstrate operator overloading by creating a class Vector and overriding the add method to add two\n",
        "# vectors.\n",
        "\n",
        "class Vector:\n",
        "  def __init__(self,x,y):\n",
        "    self.x = x\n",
        "    self.y = y\n",
        "  def __add__(self,other):\n",
        "    return Vector(self.x + other.x,self.y+other.y)\n",
        "v = Vector(34,12)\n",
        "v1 = Vector(12,12)\n",
        "v2 = v + v1\n",
        "print((v2.x,v2.y) )"
      ],
      "metadata": {
        "colab": {
          "base_uri": "https://localhost:8080/"
        },
        "id": "E3mASnyyNS3O",
        "outputId": "845ba3d2-7312-44d3-8bab-9770ccd311a4"
      },
      "execution_count": 41,
      "outputs": [
        {
          "output_type": "stream",
          "name": "stdout",
          "text": [
            "(46, 24)\n"
          ]
        }
      ]
    },
    {
      "cell_type": "code",
      "source": [
        "#  11. Create a class Person with attributes name and age. Add a method greet() that prints \"Hello, my name is\n",
        "# {name} and I am {age} years old.\n",
        "\n",
        "class Person:\n",
        "  def __init__(self,name,age):\n",
        "    self.name = name\n",
        "    self.age = age\n",
        "  def greet(self):\n",
        "    print(f\"Hello,my name is {self.name} and I am {self.age} years old\")\n",
        "p = Person(\"kirtan\",21)\n",
        "p.greet()\n",
        "\n",
        ""
      ],
      "metadata": {
        "colab": {
          "base_uri": "https://localhost:8080/"
        },
        "id": "zWPrzEEpQ2D-",
        "outputId": "95b1ab19-d640-4117-9360-27187a0398cf"
      },
      "execution_count": 1,
      "outputs": [
        {
          "output_type": "stream",
          "name": "stdout",
          "text": [
            "Hello,my name is kirtan and I am 21 years old\n"
          ]
        }
      ]
    },
    {
      "cell_type": "code",
      "source": [
        "#  12. Implement a class Student with attributes name and grades. Create a method average_grade() to compute\n",
        "# the average of the grades.\n",
        "\n",
        "class Student:\n",
        "  def __init__(self,name,grades):\n",
        "    self.name = name\n",
        "    self.grades = grades\n",
        "  def average_grade(self):\n",
        "    if not self.grades:\n",
        "      return 0\n",
        "    return sum(self.grades)/ len(self.grades)\n",
        "s = Student(\"kirtan\",[90,90,82,90,88])\n",
        "print(\"The total average of the grades are \",s.average_grade())\n",
        "\n",
        "\n",
        ""
      ],
      "metadata": {
        "colab": {
          "base_uri": "https://localhost:8080/"
        },
        "id": "6wyYwaLFon-g",
        "outputId": "58576299-032e-4e88-a54b-96cf6d5729c2"
      },
      "execution_count": 3,
      "outputs": [
        {
          "output_type": "stream",
          "name": "stdout",
          "text": [
            "The total average of the grades are  88.0\n"
          ]
        }
      ]
    },
    {
      "cell_type": "code",
      "source": [
        "#  13. Create a class Rectangle with methods set_dimensions() to set the dimensions and area() to calculate the\n",
        "# area\n",
        "\n",
        "class Rectangle:\n",
        "  def set_dimensions(self,len,width):\n",
        "    self.len = len\n",
        "    self.width = width\n",
        "  def area(self):\n",
        "    return f\"the total area of rectangle is {self.len * self.width}\"\n",
        "\n",
        "r = Rectangle()\n",
        "r.set_dimensions(12,15)\n",
        "r.area()"
      ],
      "metadata": {
        "colab": {
          "base_uri": "https://localhost:8080/",
          "height": 35
        },
        "id": "NI1XeKLyqVfk",
        "outputId": "d8d003a8-b18c-4ec5-a769-5b75a60a2832"
      },
      "execution_count": 6,
      "outputs": [
        {
          "output_type": "execute_result",
          "data": {
            "text/plain": [
              "'the total area of rectangle is 180'"
            ],
            "application/vnd.google.colaboratory.intrinsic+json": {
              "type": "string"
            }
          },
          "metadata": {},
          "execution_count": 6
        }
      ]
    },
    {
      "cell_type": "code",
      "source": [
        "#  14. Create a class Employee with a method calculate_salary() that computes the salary based on hours worked\n",
        "# and hourly rate. Create a derived class Manager that adds a bonus to the salary./\n",
        "\n",
        "class Employee:\n",
        "  def __init__(self,name,hours_worked,hourly_rate):\n",
        "    self.name = name\n",
        "    self.hours_worked = hours_worked\n",
        "    self.hourly_rate = hourly_rate\n",
        "\n",
        "  def calculate_salary(self):\n",
        "    return self.hours_worked * self.hourly_rate\n",
        "\n",
        "class Manager(Employee):\n",
        "  def __init__(self, name, hours_worked, hourly_rate, bonus):\n",
        "        super().__init__(name, hours_worked, hourly_rate)\n",
        "        self.bonus = bonus\n",
        "\n",
        "  def calculate_salary(self):\n",
        "    base_salary = super().calculate_salary()\n",
        "    return base_salary + self.bonus\n",
        "\n",
        "e = Employee(\"Alice\", 40, 500)\n",
        "m = Manager(\"Bob\", 40, 500, 10000)\n",
        "\n",
        "print(f\"{e.name}'s Salary: ₹{e.calculate_salary()}\")\n",
        "print(f\"{m.name}'s Salary: ₹{m.calculate_salary()}\")\n"
      ],
      "metadata": {
        "colab": {
          "base_uri": "https://localhost:8080/"
        },
        "id": "No7-eZWHrMtf",
        "outputId": "7685e14d-020f-4e22-b1f0-84b19f18e781"
      },
      "execution_count": 2,
      "outputs": [
        {
          "output_type": "stream",
          "name": "stdout",
          "text": [
            "Alice's Salary: ₹20000\n",
            "Bob's Salary: ₹30000\n"
          ]
        }
      ]
    },
    {
      "cell_type": "code",
      "source": [
        "# 15. Create a class Product with attributes name, price, and quantity. Implement a method total_price() that\n",
        "# calculates the total price of the product\n",
        "\n",
        "class Product:\n",
        "  def __init__(self,name,price,quantity):\n",
        "    self.name = name\n",
        "    self.price = price\n",
        "    self.quantity = quantity\n",
        "\n",
        "  def total_price(self):\n",
        "    return self.price * self.quantity\n",
        "\n",
        "p = Product(\"laptop\",300000,5)\n",
        "print(\"Product name :\",p.name)\n",
        "print(\"Total price :\",p.total_price())\n",
        "\n"
      ],
      "metadata": {
        "colab": {
          "base_uri": "https://localhost:8080/"
        },
        "id": "rf2kNsQlRMgz",
        "outputId": "20004c7b-beb7-4a48-9c4e-cf2b2608d4b3"
      },
      "execution_count": 5,
      "outputs": [
        {
          "output_type": "stream",
          "name": "stdout",
          "text": [
            "Product name : laptop\n",
            "Total price : 1500000\n"
          ]
        }
      ]
    },
    {
      "cell_type": "code",
      "source": [
        "#  16. Create a class Animal with an abstract method sound(). Create two derived classes Cow and Sheep that\n",
        "# implement the sound() method\n",
        "\n",
        "from abc import ABC,abstractmethod\n",
        "\n",
        "class Animal:\n",
        "  def sound(self):\n",
        "    pass\n",
        "class Cow(Animal):\n",
        "  def sound(self):\n",
        "    print(\"The cow make a Moo sound\")\n",
        "class Sheep(Animal):\n",
        "  def sound(Animal):\n",
        "    print(\"The sheep makes Baa sound\")\n",
        "c = Cow()\n",
        "s =  Sheep()\n",
        "\n",
        "c.sound()\n",
        "s.sound()\n"
      ],
      "metadata": {
        "colab": {
          "base_uri": "https://localhost:8080/"
        },
        "id": "q88H-yl0Thsl",
        "outputId": "86e16257-8040-4260-9683-8db48dfba165"
      },
      "execution_count": 9,
      "outputs": [
        {
          "output_type": "stream",
          "name": "stdout",
          "text": [
            "The cow make a Moo sound\n",
            "The sheep makes Baa sound\n"
          ]
        }
      ]
    },
    {
      "cell_type": "code",
      "source": [
        "# 17. Create a class Book with attributes title, author, and year_published. Add a method get_book_info() that\n",
        "# returns a formatted string with the book's details.\n",
        "\n",
        "class Book:\n",
        "  def __init__(self,tittle,author,year_published):\n",
        "    self.tittle = tittle\n",
        "    self.author = author\n",
        "    self.year_published = year_published\n",
        "\n",
        "  def get_book_info(self):\n",
        "    return f\"The tittle of the book is {self.tittle} and the author is {self.author} and published in {self.year_published}\"\n",
        "\n",
        "b = Book(\"The Great Gatsby\",\"F. Scott Fitzgerald\",1925)\n",
        "b.get_book_info()"
      ],
      "metadata": {
        "colab": {
          "base_uri": "https://localhost:8080/",
          "height": 35
        },
        "id": "LMV13ryGUuWQ",
        "outputId": "2d2a01c2-aa8f-4c9e-f3a6-af6fa4b5f0eb"
      },
      "execution_count": 10,
      "outputs": [
        {
          "output_type": "execute_result",
          "data": {
            "text/plain": [
              "'The tittle of the book is The Great Gatsby and the author is F. Scott Fitzgerald and published in 1925'"
            ],
            "application/vnd.google.colaboratory.intrinsic+json": {
              "type": "string"
            }
          },
          "metadata": {},
          "execution_count": 10
        }
      ]
    },
    {
      "cell_type": "code",
      "source": [
        "#  18. Create a class House with attributes address and price. Create a derived class Mansion that adds an\n",
        "# attribute number_of_rooms.\n",
        "\n",
        "class House:\n",
        "  def __init__(self,address,price):\n",
        "    self.address = address\n",
        "    self.price = price\n",
        "class Mansion(House):\n",
        "  def __init__(self,address,price,number_of_rooms):\n",
        "    super().__init__(address,price)\n",
        "    self.number_of_rooms = number_of_rooms\n",
        "\n",
        "h = House(\"123 Green Street\", 7500000)\n",
        "m = Mansion(\"456 Royal Avenue\", 25000000, 12)\n",
        "\n",
        "print(f\"House Address: {h.address}, Price: ₹{h.price}\")\n",
        "print(f\"Mansion Address: {m.address}, Price: ₹{m.price}, Rooms: {m.number_of_rooms}\")\n",
        ""
      ],
      "metadata": {
        "colab": {
          "base_uri": "https://localhost:8080/"
        },
        "id": "dnG2_FATV-Fn",
        "outputId": "6c146b65-7a22-424b-94fc-4f5a7f319985"
      },
      "execution_count": 12,
      "outputs": [
        {
          "output_type": "stream",
          "name": "stdout",
          "text": [
            "House Address: 123 Green Street, Price: ₹7500000\n",
            "Mansion Address: 456 Royal Avenue, Price: ₹25000000, Rooms: 12\n"
          ]
        }
      ]
    }
  ]
}